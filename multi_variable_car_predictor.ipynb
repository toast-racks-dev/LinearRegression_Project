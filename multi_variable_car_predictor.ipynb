{
 "cells": [
  {
   "cell_type": "code",
   "execution_count": 1,
   "id": "9caae511-2c01-4dc3-b113-e6831745b7b9",
   "metadata": {},
   "outputs": [],
   "source": [
    "import pandas as pd"
   ]
  },
  {
   "cell_type": "code",
   "execution_count": 2,
   "id": "1b6838c8-af93-4d17-b4b0-e75a7d72ac60",
   "metadata": {},
   "outputs": [],
   "source": [
    "import matplotlib.pyplot as plt"
   ]
  },
  {
   "cell_type": "code",
   "execution_count": 3,
   "id": "c97b5227-7ab9-40f6-b464-e48565ea64d1",
   "metadata": {},
   "outputs": [],
   "source": [
    "import numpy as np"
   ]
  },
  {
   "cell_type": "code",
   "execution_count": 4,
   "id": "83fbb8e2-d4ed-46cf-87df-33e6cdf73636",
   "metadata": {},
   "outputs": [],
   "source": [
    "car=pd.read_csv(r\"C:\\Users\\mruna\\Predictive models\\CarPrices\\CarPrice_Assignment.csv\")"
   ]
  },
  {
   "cell_type": "code",
   "execution_count": 5,
   "id": "242533b1-457b-4747-81f9-c68f2c00d28f",
   "metadata": {},
   "outputs": [
    {
     "data": {
      "text/html": [
       "<div>\n",
       "<style scoped>\n",
       "    .dataframe tbody tr th:only-of-type {\n",
       "        vertical-align: middle;\n",
       "    }\n",
       "\n",
       "    .dataframe tbody tr th {\n",
       "        vertical-align: top;\n",
       "    }\n",
       "\n",
       "    .dataframe thead th {\n",
       "        text-align: right;\n",
       "    }\n",
       "</style>\n",
       "<table border=\"1\" class=\"dataframe\">\n",
       "  <thead>\n",
       "    <tr style=\"text-align: right;\">\n",
       "      <th></th>\n",
       "      <th>car_ID</th>\n",
       "      <th>symboling</th>\n",
       "      <th>CarName</th>\n",
       "      <th>fueltype</th>\n",
       "      <th>aspiration</th>\n",
       "      <th>doornumber</th>\n",
       "      <th>carbody</th>\n",
       "      <th>drivewheel</th>\n",
       "      <th>enginelocation</th>\n",
       "      <th>wheelbase</th>\n",
       "      <th>...</th>\n",
       "      <th>enginesize</th>\n",
       "      <th>fuelsystem</th>\n",
       "      <th>boreratio</th>\n",
       "      <th>stroke</th>\n",
       "      <th>compressionratio</th>\n",
       "      <th>horsepower</th>\n",
       "      <th>peakrpm</th>\n",
       "      <th>citympg</th>\n",
       "      <th>highwaympg</th>\n",
       "      <th>price</th>\n",
       "    </tr>\n",
       "  </thead>\n",
       "  <tbody>\n",
       "    <tr>\n",
       "      <th>0</th>\n",
       "      <td>1</td>\n",
       "      <td>3</td>\n",
       "      <td>alfa-romero giulia</td>\n",
       "      <td>gas</td>\n",
       "      <td>std</td>\n",
       "      <td>two</td>\n",
       "      <td>convertible</td>\n",
       "      <td>rwd</td>\n",
       "      <td>front</td>\n",
       "      <td>88.6</td>\n",
       "      <td>...</td>\n",
       "      <td>130</td>\n",
       "      <td>mpfi</td>\n",
       "      <td>3.47</td>\n",
       "      <td>2.68</td>\n",
       "      <td>9.0</td>\n",
       "      <td>111</td>\n",
       "      <td>5000</td>\n",
       "      <td>21</td>\n",
       "      <td>27</td>\n",
       "      <td>13495.0</td>\n",
       "    </tr>\n",
       "    <tr>\n",
       "      <th>1</th>\n",
       "      <td>2</td>\n",
       "      <td>3</td>\n",
       "      <td>alfa-romero stelvio</td>\n",
       "      <td>gas</td>\n",
       "      <td>std</td>\n",
       "      <td>two</td>\n",
       "      <td>convertible</td>\n",
       "      <td>rwd</td>\n",
       "      <td>front</td>\n",
       "      <td>88.6</td>\n",
       "      <td>...</td>\n",
       "      <td>130</td>\n",
       "      <td>mpfi</td>\n",
       "      <td>3.47</td>\n",
       "      <td>2.68</td>\n",
       "      <td>9.0</td>\n",
       "      <td>111</td>\n",
       "      <td>5000</td>\n",
       "      <td>21</td>\n",
       "      <td>27</td>\n",
       "      <td>16500.0</td>\n",
       "    </tr>\n",
       "    <tr>\n",
       "      <th>2</th>\n",
       "      <td>3</td>\n",
       "      <td>1</td>\n",
       "      <td>alfa-romero Quadrifoglio</td>\n",
       "      <td>gas</td>\n",
       "      <td>std</td>\n",
       "      <td>two</td>\n",
       "      <td>hatchback</td>\n",
       "      <td>rwd</td>\n",
       "      <td>front</td>\n",
       "      <td>94.5</td>\n",
       "      <td>...</td>\n",
       "      <td>152</td>\n",
       "      <td>mpfi</td>\n",
       "      <td>2.68</td>\n",
       "      <td>3.47</td>\n",
       "      <td>9.0</td>\n",
       "      <td>154</td>\n",
       "      <td>5000</td>\n",
       "      <td>19</td>\n",
       "      <td>26</td>\n",
       "      <td>16500.0</td>\n",
       "    </tr>\n",
       "  </tbody>\n",
       "</table>\n",
       "<p>3 rows × 26 columns</p>\n",
       "</div>"
      ],
      "text/plain": [
       "   car_ID  symboling                   CarName fueltype aspiration doornumber  \\\n",
       "0       1          3        alfa-romero giulia      gas        std        two   \n",
       "1       2          3       alfa-romero stelvio      gas        std        two   \n",
       "2       3          1  alfa-romero Quadrifoglio      gas        std        two   \n",
       "\n",
       "       carbody drivewheel enginelocation  wheelbase  ...  enginesize  \\\n",
       "0  convertible        rwd          front       88.6  ...         130   \n",
       "1  convertible        rwd          front       88.6  ...         130   \n",
       "2    hatchback        rwd          front       94.5  ...         152   \n",
       "\n",
       "   fuelsystem  boreratio  stroke compressionratio horsepower  peakrpm citympg  \\\n",
       "0        mpfi       3.47    2.68              9.0        111     5000      21   \n",
       "1        mpfi       3.47    2.68              9.0        111     5000      21   \n",
       "2        mpfi       2.68    3.47              9.0        154     5000      19   \n",
       "\n",
       "   highwaympg    price  \n",
       "0          27  13495.0  \n",
       "1          27  16500.0  \n",
       "2          26  16500.0  \n",
       "\n",
       "[3 rows x 26 columns]"
      ]
     },
     "execution_count": 5,
     "metadata": {},
     "output_type": "execute_result"
    }
   ],
   "source": [
    "car.head(3)"
   ]
  },
  {
   "cell_type": "code",
   "execution_count": 6,
   "id": "28457610-c0d3-4ab4-9a51-26c03c671b64",
   "metadata": {},
   "outputs": [
    {
     "name": "stdout",
     "output_type": "stream",
     "text": [
      "[[168.8  48.8 111.  130. ]\n",
      " [168.8  48.8 111.  130. ]\n",
      " [171.2  52.4 154.  152. ]]\n",
      "[13495. 16500. 16500.]\n"
     ]
    }
   ],
   "source": [
    "x1=np.array(car['carlength'])\n",
    "x2=np.array(car['carheight'])\n",
    "x3=np.array(car['horsepower'])\n",
    "x4=np.array(car['enginesize'])\n",
    "\n",
    "X=np.column_stack([x1,x2,x3,x4])\n",
    "Y=np.array(car['price'])\n",
    "np.shape(X)\n",
    "print(X[:3,:4])\n",
    "print(Y[:3])"
   ]
  },
  {
   "cell_type": "code",
   "execution_count": 7,
   "id": "2db6b9d4-3706-46d1-926f-c859f892ade0",
   "metadata": {},
   "outputs": [],
   "source": [
    "def CostFunction(x,y,w,b):\n",
    "    m=len(y)\n",
    "    f=np.dot(x,w)+b\n",
    "    error=f-y\n",
    "    cost = (1/(2*m)) * np.sum(error**2) \n",
    "    return cost"
   ]
  },
  {
   "cell_type": "code",
   "execution_count": 8,
   "id": "5bb362b3-fb6f-4dd5-9275-497b201a2b97",
   "metadata": {},
   "outputs": [],
   "source": [
    "def Derivative(x,y,w,b):\n",
    "    m=len(y)\n",
    "    \n",
    "    f=np.dot(x,w)+b\n",
    "    error=f-y\n",
    "    \n",
    "    derv_w = (1/m) * np.dot(x.T, error)\n",
    "    derv_b=(1/m)*np.sum(error)\n",
    "    \n",
    "    return derv_w,derv_b"
   ]
  },
  {
   "cell_type": "code",
   "execution_count": 9,
   "id": "10283637-1c6e-41ce-ae43-92d11bac57e1",
   "metadata": {},
   "outputs": [],
   "source": [
    "def Gradient_Descent(x, y, alpha, iterations):\n",
    "    w=np.zeros(4)\n",
    "    b=0\n",
    "    for i in range(iterations):\n",
    "        derv_w,derv_b=Derivative(x,y,w,b)\n",
    "        w=w-alpha*derv_w\n",
    "        b=b-alpha*derv_b\n",
    "    return w,b"
   ]
  },
  {
   "cell_type": "code",
   "execution_count": 10,
   "id": "b6e3938d-7068-493f-8fef-aa8c16dca8db",
   "metadata": {},
   "outputs": [],
   "source": [
    "#mean feature scaling\n",
    "mean_X = X.mean(axis=0)\n",
    "std_X = X.std(axis=0)\n",
    "X_scaled = (X - mean_X) / std_X\n",
    "\n",
    "mean_Y = Y.mean(axis=0)\n",
    "std_Y = Y.std(axis=0)\n",
    "Y_scaled = (Y - mean_Y) / std_Y\n"
   ]
  },
  {
   "cell_type": "code",
   "execution_count": 11,
   "id": "b21c561d-c63b-46f4-8722-5e4b990ecb6e",
   "metadata": {},
   "outputs": [
    {
     "data": {
      "text/plain": [
       "'\\nmean_x=x_train.mean()\\nsigma_x=x_train.std()\\nx_scal=(x_train-mean_x)/sigma_x\\n\\nmean_y=y_train.mean()\\nsigma_y=y_train.std()\\ny_scal=(y_train-mean_y)/sigma_y\\n'"
      ]
     },
     "execution_count": 11,
     "metadata": {},
     "output_type": "execute_result"
    }
   ],
   "source": [
    "#z-score feature scaling\n",
    "\"\"\"\n",
    "mean_x=x_train.mean()\n",
    "sigma_x=x_train.std()\n",
    "x_scal=(x_train-mean_x)/sigma_x\n",
    "\n",
    "mean_y=y_train.mean()\n",
    "sigma_y=y_train.std()\n",
    "y_scal=(y_train-mean_y)/sigma_y\n",
    "\"\"\""
   ]
  },
  {
   "cell_type": "code",
   "execution_count": 12,
   "id": "3d9cf3b3-3260-4393-b6cc-b1d9bfcc1666",
   "metadata": {},
   "outputs": [
    {
     "name": "stdout",
     "output_type": "stream",
     "text": [
      " w vector is: [0.13012248 0.05580526 0.33537091 0.50457013], and b is 2.298697600830659e-15\n"
     ]
    }
   ],
   "source": [
    "learning_rate = 0.0001\n",
    "iterations = 100000\n",
    "final_w, final_b = Gradient_Descent(X_scaled, Y_scaled, learning_rate, iterations)\n",
    "print(f\" w vector is: {final_w}, and b is {final_b}\")"
   ]
  },
  {
   "cell_type": "code",
   "execution_count": 13,
   "id": "352cafc4-c23b-422f-b411-b3d2b2a27eb3",
   "metadata": {},
   "outputs": [
    {
     "data": {
      "text/plain": [
       "np.float64(0.0953692656223842)"
      ]
     },
     "execution_count": 13,
     "metadata": {},
     "output_type": "execute_result"
    }
   ],
   "source": [
    "CostFunction(X_scaled,Y_scaled, final_w, final_b)"
   ]
  },
  {
   "cell_type": "code",
   "execution_count": 20,
   "id": "6335983f-330e-4ad1-a693-bbda6b9693bc",
   "metadata": {},
   "outputs": [],
   "source": [
    "def GetPrice(x,X,Y,final_w,final_b):\n",
    "    mean_X = X.mean(axis=0)\n",
    "    std_X = X.std(axis=0)\n",
    "    x_scaled = (x - mean_X) / std_X\n",
    "    y_pred=np.dot(x_scaled,final_w)+final_b\n",
    "    y_pred_original = y_pred * Y.std() + Y.mean()\n",
    "    print(f\"Prediction price is: ${y_pred_original:.4f}\")\n"
   ]
  },
  {
   "cell_type": "code",
   "execution_count": 21,
   "id": "35622972-8ea1-40be-8a3c-b8113e6d3d82",
   "metadata": {},
   "outputs": [
    {
     "name": "stdin",
     "output_type": "stream",
     "text": [
      " 180 50 120 140\n"
     ]
    },
    {
     "name": "stdout",
     "output_type": "stream",
     "text": [
      "Prediction price is: $15441.9718\n"
     ]
    }
   ],
   "source": [
    "x=list(map(int,input().split())) # 180 50 120 140 --> 15000 approx.\n",
    "GetPrice(x,X,Y,final_w,final_b)"
   ]
  },
  {
   "cell_type": "code",
   "execution_count": null,
   "id": "d841fdb9-8136-4259-8899-3c4d82f4ef6f",
   "metadata": {},
   "outputs": [],
   "source": []
  }
 ],
 "metadata": {
  "kernelspec": {
   "display_name": "Python 3 (ipykernel)",
   "language": "python",
   "name": "python3"
  },
  "language_info": {
   "codemirror_mode": {
    "name": "ipython",
    "version": 3
   },
   "file_extension": ".py",
   "mimetype": "text/x-python",
   "name": "python",
   "nbconvert_exporter": "python",
   "pygments_lexer": "ipython3",
   "version": "3.13.5"
  }
 },
 "nbformat": 4,
 "nbformat_minor": 5
}
